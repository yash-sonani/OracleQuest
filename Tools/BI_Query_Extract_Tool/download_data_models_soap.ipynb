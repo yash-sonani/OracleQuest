{
    "cells": [
        {
            "cell_type": "code",
            "execution_count": null,
            "id": "ffce7ae0-cd6c-4e19-a8cf-96cd1407d5c2",
            "metadata": {
                "tags": []
            },
            "outputs": [],
            "source": [
                "import requests # type: ignore\n",
                "import base64\n",
                "from bs4 import BeautifulSoup # type: ignore\n",
                "from configparser import ConfigParser \n",
                "import base64"
            ]
        },
        {
            "cell_type": "code",
            "execution_count": null,
            "id": "becfcddd-a0d4-454d-aeb2-c39fbacb8419",
            "metadata": {
                "tags": []
            },
            "outputs": [],
            "source": [
                "# Read configuration\n",
                "\n",
                "config = ConfigParser()\n",
                "config.read('config.ini')\n",
                "PASSWORD = config['DEFAULT']['PASSWORD']\n",
                "USERNAME = config['DEFAULT']['USERNAME']\n",
                "URL = config['DEFAULT']['URL']\n"
            ]
        },
        {
            "cell_type": "code",
            "execution_count": null,
            "id": "a0a2b3f0-8816-493c-bf92-1260f42ec8fe",
            "metadata": {},
            "outputs": [],
            "source": [
                "def get_catalog_contents(response):\n",
                "    print(f\"response: {response}\")\n",
                "    b_xml = BeautifulSoup(response, 'html.parser')\n",
                "    catalog = []\n",
                "    for path in b_xml.find_all('absolutepath'):\n",
                "        for data in path.children:\n",
                "            catalog.append(data)\n",
                "    return catalog\n",
                "\n",
                "def list_catalog_contents(path='/Custom/Interfaces'):\n",
                "    payload = f'''<soapenv:Envelope xmlns:soapenv=\"http://schemas.xmlsoap.org/soap/envelope/\" xmlns:v2=\"http://xmlns.oracle.com/oxp/service/v2\">\n",
                "       <soapenv:Header/>\n",
                "       <soapenv:Body>\n",
                "          <v2:getFolderContents>\n",
                "             <v2:folderAbsolutePath>{path}</v2:folderAbsolutePath>\n",
                "             <v2:userID>{USERNAME}</v2:userID>\n",
                "             <v2:password>{PASSWORD}</v2:password>\n",
                "          </v2:getFolderContents>\n",
                "       </soapenv:Body>\n",
                "    </soapenv:Envelope>\n",
                "    </soapenv:Envelope>\n",
                "    '''\n",
                "    \n",
                "    header = {\n",
                "        'Content-type':'text/xml; charset=utf-8'\n",
                "    }\n",
                "    \n",
                "    response = requests.request(\"POST\", url=URL, data=payload)\n",
                "    \n",
                "    if response.status_code == 200:\n",
                "        return get_catalog_contents(response.content)\n",
                "    else:\n",
                "        return response\n"
            ]
        },
        {
            "cell_type": "code",
            "execution_count": null,
            "id": "2c49064e-a1df-440f-8799-f442ec569467",
            "metadata": {
                "tags": []
            },
            "outputs": [],
            "source": [
                "def save(content, obj_name):\n",
                "    decoded =  base64.b64decode(content)\n",
                "    with open(f\"./Inputs/{obj_name}\", 'bw+') as file:\n",
                "        file.write(bytes(decoded))\n",
                "        \n",
                "def get_base64_objects(response, object_name):\n",
                "    xml = BeautifulSoup(response, 'html.parser')\n",
                "    content = xml.find('downloadobjectreturn')\n",
                "    objs = []\n",
                "    for _content in content.contents:\n",
                "        objs.append(_content)\n",
                "        save(_content, object_name)\n",
                "    return \n",
                "\n",
                "def download_object(object_name):\n",
                "    payload = f'''<soapenv:Envelope xmlns:soapenv=\"http://schemas.xmlsoap.org/soap/envelope/\" xmlns:v2=\"http://xmlns.oracle.com/oxp/service/v2\">\n",
                "       <soapenv:Header/>\n",
                "       <soapenv:Body>\n",
                "          <v2:downloadObject>\n",
                "             <v2:reportAbsolutePath>{object_name}</v2:reportAbsolutePath>\n",
                "             <v2:userID>{USERNAME}</v2:userID>\n",
                "             <v2:password>{PASSWORD}</v2:password>\n",
                "          </v2:downloadObject>\n",
                "       </soapenv:Body>\n",
                "    </soapenv:Envelope>\n",
                "    '''\n",
                "    header = {\n",
                "        'Content-type':'text/xml; charset=utf-8'\n",
                "    }\n",
                "    \n",
                "    response = requests.request(\"POST\", url=URL, headers=header, data=payload)\n",
                "\n",
                "    if response.status_code:\n",
                "        print(response.content)\n",
                "        return get_base64_objects(response.content, object_name[object_name.rfind('/') + 1:])\n"
            ]
        },
        {
            "cell_type": "code",
            "execution_count": null,
            "id": "3f31e006-484d-4096-a822-238256d2eeb3",
            "metadata": {},
            "outputs": [],
            "source": [
                "list_of_folders = [\n",
                "    \"/Custom\"\n",
                "]"
            ]
        },
        {
            "cell_type": "code",
            "execution_count": null,
            "id": "0c7d45de-5e75-4b70-9be9-0151da93fd0d",
            "metadata": {},
            "outputs": [],
            "source": [
                "for folder in list_of_folders:\n",
                "    print(f\"folder: {folder}\")\n",
                "    for f_catalog in list_catalog_contents(folder):\n",
                "        if f_catalog not in list_of_folders:\n",
                "            print(f\"Downloading now: {f_catalog}\")\n",
                "            download_object(f_catalog)"
            ]
        }
    ],
    "metadata": {
        "kernelspec": {
            "display_name": "Python 3 (ipykernel)",
            "language": "python",
            "name": "python3"
        },
        "language_info": {
            "codemirror_mode": {
                "name": "ipython",
                "version": 3
            },
            "file_extension": ".py",
            "mimetype": "text/x-python",
            "name": "python",
            "nbconvert_exporter": "python",
            "pygments_lexer": "ipython3",
            "version": "3.10.6"
        }
    },
    "nbformat": 4,
    "nbformat_minor": 5
}
