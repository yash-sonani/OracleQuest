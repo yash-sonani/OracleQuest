{
    "cells": [
        {
            "cell_type": "code",
            "execution_count": null,
            "id": "967a0519-a6b5-4460-97c8-318cf1ef7060",
            "metadata": {
                "tags": []
            },
            "outputs": [],
            "source": [
                "# Imports\n",
                "\n",
                "import zipfile as zp\n",
                "from pathlib import Path\n",
                "from os import scandir, makedirs, path\n",
                "from io import BytesIO\n",
                "from xml.etree import ElementTree\n",
                "\n",
                "from datetime import datetime"
            ]
        },
        {
            "cell_type": "code",
            "execution_count": null,
            "id": "6650b92e",
            "metadata": {},
            "outputs": [],
            "source": [
                "def createFile(filePath, datasetName, sqlQuery):\n",
                "\n",
                "    makedirs(filePath, exist_ok=True)\n",
                "    with open(path.join(filePath, f\"{datasetName}.sql\"), \"w\") as f:\n",
                "        f.write(sqlQuery)"
            ]
        },
        {
            "cell_type": "code",
            "execution_count": null,
            "id": "d5b0affa",
            "metadata": {},
            "outputs": [],
            "source": [
                "def getSQLQueries(zpf_filename, content):\n",
                "    filename = zpf_filename.split(\"/\")[-1].replace(\".xdmz\", \"\")\n",
                "    print(f\"filename : {filename}\")\n",
                "    datasets = content.split(\"<dataSets>\")[1].split(\"</dataSets>\")[0]\n",
                "    # print(f\"datasets: {datasets}\")\n",
                "    datasetXML = ElementTree.fromstring(\"<dataSets>\"+datasets+\"</dataSets>\")\n",
                "    for dataSet in datasetXML.findall('dataSet'):\n",
                "        dataSetName = dataSet.get('name')\n",
                "        for sql in dataSet.findall(\"sql\"):\n",
                "            createFile(f\"./sql_queries/{filename}\", dataSetName, sql.text)"
            ]
        },
        {
            "cell_type": "code",
            "execution_count": null,
            "id": "8fd269a0-b8f5-43f4-b133-2cc8e608895e",
            "metadata": {
                "tags": []
            },
            "outputs": [],
            "source": [
                "# Search parameters\n",
                "\n",
                "TABLES_TO_CHECK = [\n",
                "    \"PER_ALL_PEOPLE_F\"\n",
                "]\n",
                "\n",
                "COLUMNS_TO_CHECK = [\n",
                "    \"PERSON_NUMBER\"\n",
                "]\n",
                "\n",
                "# Constants\n",
                "\n",
                "DATAMODEL_ZIP = 'xdmz'\n",
                "DATAMODEL_EXTENSION = 'xdm'\n",
                "\n",
                "REPORT_ZIP = 'xdoz'\n",
                "REPORT_EXTENSION = 'xdo'\n",
                "\n",
                "TARGET_EXT = [\n",
                "    'xdm',\n",
                "    'xdo'\n",
                "]\n",
                "\n",
                "TARGET_EXT_ZIP = [\n",
                "    'xdmz',\n",
                "    'xdoz'\n",
                "]"
            ]
        },
        {
            "cell_type": "code",
            "execution_count": null,
            "id": "66c43a74-3aaf-48ee-ac50-83785f943bd8",
            "metadata": {
                "tags": []
            },
            "outputs": [],
            "source": [
                "# Logging\n",
                "\n",
                "def log_messsage(message, override=False):\n",
                "    write_mode = 'w+' if override else 'a+'\n",
                "    \n",
                "    with open(f\"log_{datetime.now().strftime('%Y%m%d')}.txt\") as log_file:\n",
                "        log_file.write(f\"{message}\")"
            ]
        },
        {
            "cell_type": "code",
            "execution_count": null,
            "id": "6baf3c53-a109-4e74-b6f3-bf1b17a22773",
            "metadata": {
                "tags": []
            },
            "outputs": [],
            "source": [
                "def find_in_zip(path):\n",
                "    print(path)\n",
                "    if zp.is_zipfile(path):\n",
                "        with zp.ZipFile(path, mode='r') as zfile:\n",
                "            for zpf in zfile.filelist:\n",
                "                \n",
                "                if any(ext in zpf.filename for ext in TARGET_EXT_ZIP):\n",
                "                    zipdata = BytesIO(zfile.read(zpf.filename))\n",
                "\n",
                "                    with zp.ZipFile(zipdata) as inner_file:\n",
                "        \n",
                "                        for zpff in inner_file.filelist:\n",
                "                            \n",
                "                            # Check for report files\n",
                "                            if zpff.filename[-3:] == TARGET_EXT[1]:\n",
                "                                continue\n",
                "                                \n",
                "                            # Check for data model files\n",
                "                            if zpff.filename[-3:] == TARGET_EXT[0]:\n",
                "                                getSQLQueries(zpf.filename, inner_file.read(zpff.filename).decode(encoding='utf-8'))\n",
                "                                \n"
            ]
        },
        {
            "cell_type": "code",
            "execution_count": null,
            "id": "a53b2166-d16b-447d-b033-898f06c66c50",
            "metadata": {
                "tags": []
            },
            "outputs": [],
            "source": [
                "def traverse_folder(entry_point:str):\n",
                "    entry_path = Path(entry_point)\n",
                "    \n",
                "    if entry_path.is_dir():\n",
                "        list_of_files = scandir(entry_path)\n",
                "        for scanned_file in list_of_files:\n",
                "            print(f\"scanned_file: {scanned_file}\")\n",
                "            traverse_folder(scanned_file)\n",
                "    else:\n",
                "        find_in_zip(entry_path)"
            ]
        },
        {
            "cell_type": "code",
            "execution_count": null,
            "id": "65e3c12f-3a77-461d-8182-4540990b573a",
            "metadata": {
                "tags": []
            },
            "outputs": [],
            "source": [
                "traverse_folder(f'./Inputs')"
            ]
        }
    ],
    "metadata": {
        "kernelspec": {
            "display_name": "Python 3",
            "language": "python",
            "name": "python3"
        },
        "language_info": {
            "codemirror_mode": {
                "name": "ipython",
                "version": 3
            },
            "file_extension": ".py",
            "mimetype": "text/x-python",
            "name": "python",
            "nbconvert_exporter": "python",
            "pygments_lexer": "ipython3",
            "version": "3.12.9"
        }
    },
    "nbformat": 4,
    "nbformat_minor": 5
}
